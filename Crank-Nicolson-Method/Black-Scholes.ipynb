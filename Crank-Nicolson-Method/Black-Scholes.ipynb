{
 "cells": [
  {
   "cell_type": "markdown",
   "metadata": {},
   "source": [
    "# The Black Scholes Model\n"
   ]
  },
  {
   "cell_type": "markdown",
   "metadata": {},
   "source": [
    "In the Black Scholes model, the stock follows the following process.\n",
    "$$\n",
    "dx_t = (\\mu_t - \\frac{\\sigma^2}{2})dt + \\sigma dW_t\n",
    "$$\n",
    "where,\n",
    "$$\n",
    "x_t = \\ln S_t\n",
    "$$"
   ]
  },
  {
   "cell_type": "markdown",
   "metadata": {},
   "source": [
    "## PDE for the contract price"
   ]
  },
  {
   "cell_type": "markdown",
   "metadata": {},
   "source": [
    "Let $V$ be the price of the contract. $V_x$ and $V_{xx}$ are the derivatives w.r.t. $x$.\n",
    "$$\n",
    "V_x (\\mu_t - \\frac{\\sigma^2}{2})dt + V_{xx}\\frac{\\sigma^2}{2}dt + dV - r V dt = 0\n",
    "$$"
   ]
  },
  {
   "cell_type": "code",
   "execution_count": null,
   "metadata": {},
   "outputs": [],
   "source": [
    "from sympy import *\n",
    "from sympy import init_printing\n",
    "from utils.symfns import discretize_crank_nicolson, find_coefficients\n",
    "\n",
    "init_printing()\n",
    "\n",
    "dV, V, Vx, Vxx, sigma, mu, r, dx, dt, x = symbols(\n",
    "    \"dV V V_x V_{xx} sigma mu r dx, dt, x\"\n",
    ")"
   ]
  },
  {
   "cell_type": "markdown",
   "metadata": {},
   "source": [
    "We will define the LHS of the equation using sympy as follows:"
   ]
  },
  {
   "cell_type": "code",
   "execution_count": null,
   "metadata": {},
   "outputs": [
    {
     "data": {
      "text/latex": [
       "$\\displaystyle - V dt r + V_{x} dt \\left(\\mu - \\frac{\\sigma^{2}}{2}\\right) + \\frac{V_{xx} dt \\sigma^{2}}{2} + dV$"
      ],
      "text/plain": [
       "                ⎛     2⎞              2     \n",
       "                ⎜    σ ⎟   V_{xx}⋅dt⋅σ      \n",
       "-V⋅dt⋅r + Vₓ⋅dt⋅⎜μ - ──⎟ + ──────────── + dV\n",
       "                ⎝    2 ⎠        2           "
      ]
     },
     "execution_count": null,
     "metadata": {},
     "output_type": "execute_result"
    }
   ],
   "source": [
    "model_expr = (\n",
    "    dV + sigma**2 / 2 * Vxx * dt + (mu - sigma**2 / 2) * Vx * dt - r * V * dt\n",
    ")\n",
    "model_expr"
   ]
  },
  {
   "cell_type": "markdown",
   "metadata": {},
   "source": [
    "## Discretize\n",
    "\n",
    "We can now substitute $V$, $dV$, $V_x$, and $V_{xx}$ in the above PDE, by the discrete estimates based on the Crank-Nicolson method, as described in the [README](../README.md)."
   ]
  },
  {
   "cell_type": "code",
   "execution_count": null,
   "metadata": {},
   "outputs": [
    {
     "data": {
      "text/latex": [
       "$\\displaystyle - V^{m}_{l} + V^{m}_{r} - dt r \\left(\\frac{V^{m}_{l}}{2} + \\frac{V^{m}_{r}}{2}\\right) + \\frac{dt \\left(\\mu - \\frac{\\sigma^{2}}{2}\\right) \\left(- \\frac{V^{d}_{l}}{2} - \\frac{V^{d}_{r}}{2} + \\frac{V^{u}_{l}}{2} + \\frac{V^{u}_{r}}{2}\\right)}{2 dx} + \\frac{dt \\sigma^{2} \\left(V^{d}_{l} + V^{d}_{r} - 2 V^{m}_{l} - 2 V^{m}_{r} + V^{u}_{l} + V^{u}_{r}\\right)}{4 dx^{2}}$"
      ],
      "text/plain": [
       "                                               ⎛     2⎞                       \n",
       "                                               ⎜    σ ⎟ ⎛  V_l__d   V_r__d   V\n",
       "                                            dt⋅⎜μ - ──⎟⋅⎜- ────── - ────── + ─\n",
       "                        ⎛V_l__m   V_r__m⎞      ⎝    2 ⎠ ⎝    2        2       \n",
       "-V_l__m + V_r__m - dt⋅r⋅⎜────── + ──────⎟ + ──────────────────────────────────\n",
       "                        ⎝  2        2   ⎠                          2⋅dx       \n",
       "                                                                              \n",
       "\n",
       "                                                                              \n",
       "_l__u   V_r__u⎞                                                               \n",
       "───── + ──────⎟       2                                                       \n",
       " 2        2   ⎠   dt⋅σ ⋅(V_l__d + V_r__d - 2⋅V_l__m - 2⋅V_r__m + V_l__u + V_r_\n",
       "─────────────── + ────────────────────────────────────────────────────────────\n",
       "                                                   2                          \n",
       "                                               4⋅dx                           \n",
       "\n",
       "   \n",
       "   \n",
       "   \n",
       "_u)\n",
       "───\n",
       "   \n",
       "   "
      ]
     },
     "execution_count": null,
     "metadata": {},
     "output_type": "execute_result"
    }
   ],
   "source": [
    "expr, left_gridpoints, right_gridpoints = discretize_crank_nicolson(\n",
    "    model_expr, V, dV, Vx, Vxx, dx\n",
    ")\n",
    "expr"
   ]
  },
  {
   "cell_type": "markdown",
   "metadata": {},
   "source": [
    "We now need to find the coefficients of $V^u_p$, $V^m_p$, $V^d_p$, $V^u$, $V^m$, $V^d$"
   ]
  },
  {
   "cell_type": "markdown",
   "metadata": {},
   "source": [
    "The PDE is in the form\n",
    "$$\n",
    "Coefs \\cdot\n",
    "\\begin{bmatrix}\n",
    "V^u_l & V^u_r \\\\\n",
    "V^m_l & V^m_r \\\\\n",
    "V^d_l & V^d_r\n",
    "\\end{bmatrix} = 0\n",
    "$$\n",
    "\n",
    "Therefore, if we re-arrange into the form:\n",
    "\n",
    "$$\n",
    "A_l \\cdot \\begin{bmatrix} V^u_l \\\\ V^m_l \\\\ V^d_l \\end{bmatrix} =\n",
    "A_r \\cdot \\begin{bmatrix} V^u_r \\\\ V^m_r \\\\ V^d_r \\end{bmatrix}\n",
    "$$\n",
    "\n",
    "We can run backward induction, by solving for $A_l$ when $A_r$ is known."
   ]
  },
  {
   "cell_type": "markdown",
   "metadata": {},
   "source": [
    "$A_l$ is given by the left coefficients, and $A_r$ is given by the **negative** of the right coefficients. Here they are, including the special cases at the grid boundaries, with the negatives already applied."
   ]
  },
  {
   "cell_type": "code",
   "execution_count": null,
   "metadata": {},
   "outputs": [
    {
     "name": "stdout",
     "output_type": "stream",
     "text": [
      "\n",
      "Row type: normal\n",
      "V^u_l: dt*(mu - sigma**2/2)/(4*dx) + dt*sigma**2/(4*dx**2)\n",
      "V^m_l: -dt*r/2 - dt*sigma**2/(2*dx**2) - 1\n",
      "V^d_l: -dt*(mu - sigma**2/2)/(4*dx) + dt*sigma**2/(4*dx**2)\n",
      "V^u_r: -dt*(mu - sigma**2/2)/(4*dx) - dt*sigma**2/(4*dx**2)\n",
      "V^m_r: dt*r/2 + dt*sigma**2/(2*dx**2) - 1\n",
      "V^d_r: dt*(mu - sigma**2/2)/(4*dx) - dt*sigma**2/(4*dx**2)\n",
      "\n",
      "Row type: up\n",
      "V^u_l: 0\n",
      "V^m_l: -dt*r/2 + dt*(mu - sigma**2/2)/(2*dx) - 1\n",
      "V^d_l: -dt*(mu - sigma**2/2)/(2*dx)\n",
      "V^u_r: 0\n",
      "V^m_r: dt*r/2 - dt*(mu - sigma**2/2)/(2*dx) - 1\n",
      "V^d_r: dt*(mu - sigma**2/2)/(2*dx)\n",
      "\n",
      "Row type: dn\n",
      "V^u_l: dt*(mu - sigma**2/2)/(2*dx)\n",
      "V^m_l: -dt*r/2 - dt*(mu - sigma**2/2)/(2*dx) - 1\n",
      "V^d_l: 0\n",
      "V^u_r: -dt*(mu - sigma**2/2)/(2*dx)\n",
      "V^m_r: dt*r/2 + dt*(mu - sigma**2/2)/(2*dx) - 1\n",
      "V^d_r: 0\n"
     ]
    }
   ],
   "source": [
    "for row_type in [\"normal\", \"up\", \"dn\"]:\n",
    "    print(f\"\\nRow type: {row_type}\")\n",
    "    expr_up, left_gridpoints, right_gridpoints = discretize_crank_nicolson(\n",
    "        model_expr, V, dV, Vx, Vxx, dx, rowtype=row_type\n",
    "    )\n",
    "    coefs_up = find_coefficients(expr_up, left_gridpoints + right_gridpoints)\n",
    "\n",
    "    for k, v in coefs_up.items():\n",
    "        flip = -1 if k in right_gridpoints else 1\n",
    "        print(f\"{k}: {v * flip}\")"
   ]
  },
  {
   "cell_type": "markdown",
   "metadata": {},
   "source": [
    "<a style='text-decoration:none;line-height:16px;display:flex;color:#5B5B62;padding:10px;justify-content:end;' href='https://deepnote.com?utm_source=created-in-deepnote-cell&projectId=7b2bac78-17c7-471e-96cd-db7e0e632f5e' target=\"_blank\">\n",
    "<img alt='Created in deepnote.com' style='display:inline;max-height:16px;margin:0px;margin-right:7.5px;' src='data:image/svg+xml;base64,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' > </img>\n",
    "Created in <span style='font-weight:600;margin-left:4px;'>Deepnote</span></a>"
   ]
  }
 ],
 "metadata": {
  "deepnote_execution_queue": [],
  "deepnote_notebook_id": "16ba63b0e675475f86959d6244bb5397",
  "deepnote_persisted_session": {
   "createdAt": "2023-10-05T03:46:31.702Z"
  },
  "kernelspec": {
   "display_name": ".venv",
   "language": "python",
   "name": "python3"
  },
  "language_info": {
   "codemirror_mode": {
    "name": "ipython",
    "version": 3
   },
   "file_extension": ".py",
   "mimetype": "text/x-python",
   "name": "python",
   "nbconvert_exporter": "python",
   "pygments_lexer": "ipython3"
  }
 },
 "nbformat": 4,
 "nbformat_minor": 0
}
