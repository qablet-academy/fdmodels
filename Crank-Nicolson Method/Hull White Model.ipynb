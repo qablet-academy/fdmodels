{
  "nbformat": 4,
  "nbformat_minor": 5,
  "metadata": {
    "kernel_info": {
      "name": "project_scoped_kernel"
    },
    "kernelspec": {
      "display_name": "Project Kernel",
      "language": "python",
      "name": "project_scoped_kernel"
    },
    "selected_hardware_size": "small"
  },
  "cells": [
    {
      "id": "6d642425-d4df-46d9-855b-bb4a1f40897f",
      "cell_type": "markdown",
      "source": "In the Hull White model, the short-rate follows the following process.\n\n$$\ndr_t = [\\theta_t - a r_t]dt + \\sigma dW_t\n$$\n\n[Brigo, Mercurio, Interest Rate Models, 2006 ed., page 73-74]. We can instead define the process as,\n\n$$\ndx_t = - a x_t dt + \\sigma dW_t\n$$\nwhere\n$$r_t = \\alpha_t + x_t$$ \ni.e. the short rate is the sum of a deterministic $\\alpha$ and a stochastic $x$.\n\nIn this case, to fit the term structure of interest rates, $\\alpha_t$ is given by\n\n$$\n\\alpha_t = f^M_t + \\frac{\\sigma^2}{2a^2}(1-e^{-at})^2\n$$",
      "metadata": {
        "noteable": {
          "cell_type": "markdown"
        }
      }
    },
    {
      "id": "251a4b98",
      "cell_type": "code",
      "metadata": {
        "noteable": {
          "output_collection_id": "48e6504b-8754-4276-b894-7bed98a3b6b4"
        },
        "ExecuteTime": {
          "end_time": "2023-10-01T18:44:23.199503+00:00",
          "start_time": "2023-10-01T18:44:22.742005+00:00"
        }
      },
      "execution_count": null,
      "source": "from sympy import *\n\ndV, V, Vx, Vxx, sigma, a, r, dx, dt, x = symbols(\"dV V V_x V_{xx} sigma a r dx, dt, x\")",
      "outputs": []
    }
  ]
}