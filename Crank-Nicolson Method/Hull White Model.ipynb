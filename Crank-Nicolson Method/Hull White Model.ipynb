{
  "nbformat": 4,
  "nbformat_minor": 5,
  "metadata": {
    "kernel_info": {
      "name": "python3.9-noteable"
    },
    "kernelspec": {
      "display_name": "Python 3.9 (Noteable)",
      "language": "python",
      "name": "python3.9-noteable"
    },
    "selected_hardware_size": "small"
  },
  "cells": [
    {
      "id": "6d642425-d4df-46d9-855b-bb4a1f40897f",
      "cell_type": "markdown",
      "source": "In the Hull White model, the short-rate follows the following process.\n\n$$\ndr_t = [\\theta_t - a r_t]dt + \\sigma dW_t\n$$\n\n[Brigo, Mercurio, Interest Rate Models, 2006 ed., page 73-74]. We can instead define the process as,\n\n$$\ndx_t = - a x_t dt + \\sigma dW_t\n$$\nwhere\n$$r_t = \\alpha_t + x_t$$ \ni.e. the short rate is the sum of a deterministic $\\alpha$ and a stochastic $x$.\n\nIn this case, to fit the term structure of interest rates, $\\alpha_t$ is given by\n\n$$\n\\alpha_t = f^M_t + \\frac{\\sigma^2}{2a^2}(1-e^{-at})^2\n$$",
      "metadata": {
        "noteable": {
          "cell_type": "markdown"
        }
      }
    },
    {
      "id": "251a4b98",
      "cell_type": "code",
      "metadata": {
        "noteable": {
          "output_collection_id": "f6c25e87-e130-4c05-9831-ea6c4c0ae57b"
        },
        "ExecuteTime": {
          "end_time": "2023-10-01T18:42:49.479268+00:00",
          "start_time": "2023-10-01T18:42:49.110263+00:00"
        }
      },
      "execution_count": null,
      "source": "from sympy import *\n\ndV, V, Vx, Vxx, sigma, a, r, dx, dt, x = symbols(\"dV V V_x V_{xx} sigma a r dx, dt, x\")",
      "outputs": []
    }
  ]
}