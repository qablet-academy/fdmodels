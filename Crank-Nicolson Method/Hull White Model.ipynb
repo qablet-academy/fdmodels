{
  "nbformat": 4,
  "nbformat_minor": 5,
  "metadata": {
    "kernel_info": {
      "name": "python3"
    },
    "kernelspec": {
      "display_name": "Python 3.9",
      "language": "python",
      "name": "python3"
    },
    "selected_hardware_size": "small"
  },
  "cells": [
    {
      "id": "1183ae39-5160-4f9e-8534-3f25b1405e30",
      "cell_type": "markdown",
      "source": "# The Hull White Model",
      "metadata": {
        "noteable": {
          "cell_type": "markdown"
        }
      }
    },
    {
      "id": "6d642425-d4df-46d9-855b-bb4a1f40897f",
      "cell_type": "markdown",
      "source": "In the Hull White model, the short-rate follows the following process.\n\n$$\ndr_t = [\\theta_t - a r_t]dt + \\sigma dW_t\n$$\n\n[Brigo, Mercurio, Interest Rate Models, 2006 ed., page 73-74]. We can instead define the process as,\n\n$$\ndx_t = - a x_t dt + \\sigma dW_t\n$$\n\nwhere $r_t = \\alpha_t + x_t$ i.e. the short rate is the sum of a deterministic $\\alpha$ and a stochastic $x$\n\nIn this case, to fit the term structure of interest rates, $\\alpha_t$ is given by\n\n$$\n\\alpha_t = f^M_t + \\frac{\\sigma^2}{2a^2}(1-e^{-at})^2\n$$",
      "metadata": {
        "noteable": {
          "cell_type": "markdown"
        }
      }
    },
    {
      "id": "251a4b98",
      "cell_type": "code",
      "metadata": {
        "noteable": {
          "output_collection_id": "a36f517c-72c7-4539-a186-302a5a7484ff"
        },
        "ExecuteTime": {
          "end_time": "2023-10-01T19:25:32.192051+00:00",
          "start_time": "2023-10-01T19:25:31.754752+00:00"
        }
      },
      "execution_count": null,
      "source": "from sympy import *\n\ndV, V, Vx, Vxx, sigma, a, r, dx, dt, x = symbols(\"dV V V_x V_{xx} sigma a r dx, dt, x\")",
      "outputs": []
    },
    {
      "id": "55daa3c4-cb03-4bdb-8785-dcda38ffaed8",
      "cell_type": "code",
      "metadata": {
        "jupyter": {
          "outputs_hidden": false,
          "source_hidden": false
        },
        "noteable": {
          "cell_type": "code",
          "output_collection_id": "60fb5ef1-82cc-4644-bb2d-a1bb65e79143"
        },
        "ExecuteTime": {
          "end_time": "2023-10-01T19:26:01.112505+00:00",
          "start_time": "2023-10-01T19:26:00.956545+00:00"
        }
      },
      "execution_count": null,
      "source": "hw_expr = dV + sigma * sigma / 2 * Vxx * dt - a * x * Vx * dt - r * V * dt\nprint(Eq(hw_expr, 0))",
      "outputs": []
    }
  ]
}